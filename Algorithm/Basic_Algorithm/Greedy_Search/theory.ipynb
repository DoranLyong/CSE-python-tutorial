{
 "metadata": {
  "language_info": {
   "codemirror_mode": {
    "name": "ipython",
    "version": 3
   },
   "file_extension": ".py",
   "mimetype": "text/x-python",
   "name": "python",
   "nbconvert_exporter": "python",
   "pygments_lexer": "ipython3",
   "version": "3.7.7"
  },
  "orig_nbformat": 2,
  "kernelspec": {
   "name": "python377jvsc74a57bd035a7997725faad40f087243f8c6d6ebbb08f100d8f95e1889e31bf95f4d5c47b",
   "display_name": "Python 3.7.7 64-bit ('pytorch_env': conda)"
  }
 },
 "nbformat": 4,
 "nbformat_minor": 2,
 "cells": [
  {
   "source": [
    "# 당장 좋은 것만 선택하는 그리디(Greedy)\n",
    "\n",
    "Greedy search(algorithm)은 '**탐욕법**'이란 이름으로 번역되어 소개된다. 이름 그대로 **현재 상황에서 지금 당장 좋은 것만 고르는 것**을 규칙으로 한다. 그렇기 때문에 **현재의 선택이 나중에 미칠 영향에 대해서는 전혀 고려하지 않는다.** <br/>\n",
    "\n",
    "그리디 알고리즘(greedy algorithm)은 기준에 따라 좋은 것을 선택하는 알고리즘이므로 이것을 활용해서 문제를 풀 때는 '**가장 큰 순서대로**' 또는 '**가장 작은 순서대로**'와 같은 기준이 있어야 한다. <br/>"
   ],
   "cell_type": "markdown",
   "metadata": {}
  },
  {
   "source": [
    "### (ex1) 거스름돈 문제 \n",
    "당신은 편의점 점원이다. 카운터에는 거스름돈으로 사용할 500원, 100원, 50원, 10원짜리 동전이 무한히 존재한다. **손님에게 거슬러 줘야 할 돈이 N원일 때 거슬러 줘야 할 동전의 최소 개수를 구하라** (단, 거슬러 줘야 할 돈 N은 항상 10의 배수이다.).\n",
    "\n",
    "<br/>\n",
    "\n",
    "#### 문제 해설\n",
    "그리디 알고리즘으로 풀고 싶다면 다음을 떠올려라: \n",
    "* 현재 상황에서 당장 좋은 것만 고르는 것만을 생각한다 \n",
    "* 그것을 바탕으로 기준(규칙)을 설정한다\n",
    "\n",
    "\n",
    "그랬을 때, 가장 간단한 아이디어는 '**가장 큰 화폐 단위부터**' 돈을 거슬러 주는 것이다.\n",
    "\n",
    "\n",
    "``` python\n",
    "### pseudocode\n",
    "\n",
    "N원을 거슬러 줘야 할 때, 가장 먼저 500원을 거슬러 줄 수 있을 만큼 거슬러 준다 (= 가장 큰 동전부터 준다).\n",
    "그다음 100원, 50원, 10원짜리 동전을 차례대로 거슬러 줄 수 있을 만큼 거슬러 준다.\n",
    "\n",
    "```\n"
   ],
   "cell_type": "markdown",
   "metadata": {}
  },
  {
   "cell_type": "code",
   "execution_count": 6,
   "metadata": {},
   "outputs": [],
   "source": [
    "change = 1260   # 거슬러줘야 할 돈 \n",
    "\n",
    "coint_types = [500, 100, 50, 10]  # 잔돈 종류 \n",
    "\n",
    "\n",
    "\"\"\" Greedy search 시작 \n",
    "\"\"\"\n",
    "count = 0 \n",
    "\n",
    "for coin in coint_types: \n",
    "    count += change // coin  # 해당 화폐로 거슬러 줄 수 있는 동전의 개수 카운트 \n",
    "    change %= coin  # 나머지 연산 "
   ]
  },
  {
   "cell_type": "code",
   "execution_count": 7,
   "metadata": {},
   "outputs": [
    {
     "output_type": "stream",
     "name": "stdout",
     "text": [
      "6\n"
     ]
    }
   ],
   "source": [
    "print(count) # 최소 6개의 동전 조합으로 거슬러줄 수 있음 "
   ]
  },
  {
   "cell_type": "code",
   "execution_count": 9,
   "metadata": {},
   "outputs": [
    {
     "output_type": "execute_result",
     "data": {
      "text/plain": [
       "2"
      ]
     },
     "metadata": {},
     "execution_count": 9
    }
   ],
   "source": [
    "1260 // 500  # 몫 연산 "
   ]
  },
  {
   "cell_type": "code",
   "execution_count": 10,
   "metadata": {},
   "outputs": [
    {
     "output_type": "execute_result",
     "data": {
      "text/plain": [
       "260"
      ]
     },
     "metadata": {},
     "execution_count": 10
    }
   ],
   "source": [
    "1260 % 500  # 나머지 연산 "
   ]
  },
  {
   "source": [
    "## 이 알고리즘의 특성 (properties)\n",
    "* Completeness - (x)\n",
    "* optimality - (x)\n",
    "* Time-complexity - $O(k)$\n",
    "* Space-complexity - (지금은 무시해도 될 듯?)\n",
    "\n",
    "위의 순회 구조(iteration)는 **화폐의 종류만큼 반복을 수행한다**. 따라서, 화폐의 종류가 k개라면 위 코드 블럭의 시간 복잡도는 $O(k)$이다.<br/>\n"
   ],
   "cell_type": "markdown",
   "metadata": {}
  },
  {
   "source": [
    "***"
   ],
   "cell_type": "markdown",
   "metadata": {}
  },
  {
   "source": [
    "Greedy algorithm은 일반적으로 non-completeness 하고 non-optimal하다. 하지만, **어떤 문제가 정확한 답을 찾을 수 있다는 사실을 보장한다면**, 매우 효과적이거 직관적으로 활용할 수 있다."
   ],
   "cell_type": "markdown",
   "metadata": {}
  },
  {
   "source": [
    "### (ex2) 큰 수의 법칙 \n",
    "다양한 수로 이루어진 배열이 있을 때 주어진 수들을 M번 더하여 가장 큰 수를 만들어라. 단, 배열의 특정한 인덱스(번호)에 해당하는 수가 연속해서 K번을 초과해서 더해질 수 없다. "
   ],
   "cell_type": "markdown",
   "metadata": {}
  },
  {
   "cell_type": "code",
   "execution_count": 14,
   "metadata": {},
   "outputs": [],
   "source": [
    "n, m, k = map(int, input().split()) # 조건을 공백으로 구분하여 입력 \n",
    "                                    # 5 8 3 \n",
    "\n",
    "data = list(map(int, input().split())) # N개의 수를 공백으로 구분하여 입력 (배열)\n",
    "                                       # 2 4 5 4 6 \n",
    "\n",
    "data.sort() # 입력받은 수들 정렬하기 \n",
    "first = data[n - 1] # 가장 큰 수 \n",
    "second = data[n - 2] # 두 번째로 큰 수\n",
    "\n",
    "\"\"\" Greedy search 시작 \n",
    "\"\"\"\n",
    "result = 0 \n",
    "\n",
    "while True:\n",
    "    for i in range(k): # 가장 큰 수를 K번 더하기 \n",
    "        \n",
    "        if m == 0 : # m이 0이면, 탈출 \n",
    "            break \n",
    "\n",
    "        result += first \n",
    "        m -= 1 # 더할 때마다 1씩 빼기 \n",
    "\n",
    "    if m == 0 : # m이 0이라면, 탈출 \n",
    "        break \n",
    "    result += second # 두 번째로 큰 수를 한 번 더하기 \n",
    "    \n",
    "    m -= 1 # 더할 때마다 1씩 빼기 "
   ]
  },
  {
   "cell_type": "code",
   "execution_count": 16,
   "metadata": {},
   "outputs": [
    {
     "output_type": "stream",
     "name": "stdout",
     "text": [
      "46\n"
     ]
    }
   ],
   "source": [
    "print(result) # 최종 답인 출력"
   ]
  },
  {
   "cell_type": "code",
   "execution_count": null,
   "metadata": {},
   "outputs": [],
   "source": []
  }
 ]
}