{
 "metadata": {
  "language_info": {
   "codemirror_mode": {
    "name": "ipython",
    "version": 3
   },
   "file_extension": ".py",
   "mimetype": "text/x-python",
   "name": "python",
   "nbconvert_exporter": "python",
   "pygments_lexer": "ipython3",
   "version": 3
  },
  "orig_nbformat": 2
 },
 "nbformat": 4,
 "nbformat_minor": 2,
 "cells": [
  {
   "source": [
    "# 당장 좋은 것만 선택하는 그리디(Greedy)\n",
    "\n",
    "Greedy search(algorithm)은 ==탐욕법==이란 이름으로 번역되어 소개된다. 이름 그대로 **현재 상황에서 지금 당장 좋은 것만 고르는 것**을 규칙으로 한다. 그렇기 때문에 **현재의 선택이 나중에 미칠 영향에 대해서는 전혀 고려하지 않는다.** <br/>\n",
    "\n",
    "그리디 알고리즘(greedy algorithm)은 기준에 따라 좋은 것을 선택하는 알고리즘이므로 이것을 활용해서 문제를 풀 때는 '**가장 큰 순서대로**' 또는 '**가장 작은 순서대로**'와 같은 기준이 있어야 한다. <br/>"
   ],
   "cell_type": "markdown",
   "metadata": {}
  },
  {
   "cell_type": "code",
   "execution_count": null,
   "metadata": {},
   "outputs": [],
   "source": []
  },
  {
   "cell_type": "code",
   "execution_count": null,
   "metadata": {},
   "outputs": [],
   "source": []
  }
 ]
}