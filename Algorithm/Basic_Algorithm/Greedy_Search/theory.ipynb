{
 "metadata": {
  "language_info": {
   "codemirror_mode": {
    "name": "ipython",
    "version": 3
   },
   "file_extension": ".py",
   "mimetype": "text/x-python",
   "name": "python",
   "nbconvert_exporter": "python",
   "pygments_lexer": "ipython3",
   "version": 3
  },
  "orig_nbformat": 2
 },
 "nbformat": 4,
 "nbformat_minor": 2,
 "cells": [
  {
   "source": [
    "# 당장 좋은 것만 선택하는 그리디(Greedy)\n",
    "\n",
    "Greedy search(algorithm)은 '**탐욕법**'이란 이름으로 번역되어 소개된다. 이름 그대로 **현재 상황에서 지금 당장 좋은 것만 고르는 것**을 규칙으로 한다. 그렇기 때문에 **현재의 선택이 나중에 미칠 영향에 대해서는 전혀 고려하지 않는다.** <br/>\n",
    "\n",
    "그리디 알고리즘(greedy algorithm)은 기준에 따라 좋은 것을 선택하는 알고리즘이므로 이것을 활용해서 문제를 풀 때는 '**가장 큰 순서대로**' 또는 '**가장 작은 순서대로**'와 같은 기준이 있어야 한다. <br/>"
   ],
   "cell_type": "markdown",
   "metadata": {}
  },
  {
   "source": [
    "### (ex1) 거스름돈 문제 \n",
    "당신은 편의점 점원이다. 카운터에는 거스름돈으로 사용할 500원, 100원, 50원, 10원짜리 동전이 무한히 존재한다. **손님에게 거슬러 줘야 할 돈이 N원일 때 거슬러 줘야 할 동전의 최소 개수를 구하라** (단, 거슬러 줘야 할 돈 N은 항상 10의 배수이다.).\n",
    "\n",
    "<br/><br/>\n",
    "#### 문제 해설\n",
    "그리디 알고리즘으로 풀고 싶다면 다음을 떠올려라: \n",
    "* 현재 상황에서 당장 좋은 것만 고르는 것만을 생각한다 \n",
    "* 그것을 바탕으로 기준(규칙)을 설정한다\n",
    "\n",
    "<br/>\n",
    "\n",
    "그랬을 때, 가장 간단한 아이디어는 '**가장 큰 화폐 단위부터**' 돈을 거슬러 주는 것이다.\n",
    "\n",
    "**\\[Code\\]**\n",
    "``` python\n",
    "N원을 거슬러 줘야 할 때, 가장 먼저 500원을 거슬러 줄 수 있을 만큼 거슬러 준다.\n",
    "그다음 100원, 50원, 10원짜리 동전을 차례대로 거슬러 줄 수 있을 만큼 거슬러 준다.\n",
    "\n",
    "```\n"
   ],
   "cell_type": "markdown",
   "metadata": {}
  },
  {
   "cell_type": "code",
   "execution_count": null,
   "metadata": {},
   "outputs": [],
   "source": []
  }
 ]
}